{
 "cells": [
  {
   "cell_type": "code",
   "execution_count": 105,
   "metadata": {},
   "outputs": [],
   "source": [
    "import pandas as pd\n",
    "import numpy as np\n",
    "import matplotlib.pyplot as plt\n",
    "\n",
    "train_df=pd.read_csv('train.csv')\n",
    "test_df=pd.read_csv('test.csv')"
   ]
  },
  {
   "cell_type": "code",
   "execution_count": 60,
   "metadata": {},
   "outputs": [],
   "source": [
    "# train_df.sample(5)\n",
    "# test_df.sample(5)"
   ]
  },
  {
   "cell_type": "code",
   "execution_count": 238,
   "metadata": {},
   "outputs": [
    {
     "name": "stdout",
     "output_type": "stream",
     "text": [
      "<class 'pandas.core.frame.DataFrame'>\n",
      "RangeIndex: 196539 entries, 0 to 196538\n",
      "Data columns (total 19 columns):\n",
      "Time            196539 non-null int64\n",
      "Neighborhood    196539 non-null int64\n",
      "RentRoom        195538 non-null float64\n",
      "Height          196539 non-null int64\n",
      "TolHeight       196539 non-null float64\n",
      "RoomArea        196539 non-null float64\n",
      "RoomDir         196539 non-null object\n",
      "RentStatus      20138 non-null float64\n",
      "Bedroom         196539 non-null int64\n",
      "Livingroom      196539 non-null int64\n",
      "Bathroom        196539 non-null int64\n",
      "RentType        24230 non-null float64\n",
      "Region          196508 non-null float64\n",
      "BusLoc          196508 non-null float64\n",
      "SubwayLine      91778 non-null float64\n",
      "SubwaySta       91778 non-null float64\n",
      "SubwayDis       91778 non-null float64\n",
      "RemodCond       18492 non-null float64\n",
      "Rental          196539 non-null float64\n",
      "dtypes: float64(12), int64(6), object(1)\n",
      "memory usage: 28.5+ MB\n"
     ]
    }
   ],
   "source": [
    "train_df.info()\n",
    "# test_df.info()"
   ]
  },
  {
   "cell_type": "markdown",
   "metadata": {},
   "source": [
    "带缺失值的列有：\n",
    "**RentRoom、RentStatus、RentType、Region、BusLoc、SubwayLine、SubwaySta、SubwayDis、RemodCond**"
   ]
  },
  {
   "cell_type": "code",
   "execution_count": 62,
   "metadata": {},
   "outputs": [
    {
     "data": {
      "text/html": [
       "<div>\n",
       "<style scoped>\n",
       "    .dataframe tbody tr th:only-of-type {\n",
       "        vertical-align: middle;\n",
       "    }\n",
       "\n",
       "    .dataframe tbody tr th {\n",
       "        vertical-align: top;\n",
       "    }\n",
       "\n",
       "    .dataframe thead th {\n",
       "        text-align: right;\n",
       "    }\n",
       "</style>\n",
       "<table border=\"1\" class=\"dataframe\">\n",
       "  <thead>\n",
       "    <tr style=\"text-align: right;\">\n",
       "      <th></th>\n",
       "      <th>Time</th>\n",
       "      <th>Neighborhood</th>\n",
       "      <th>RentRoom</th>\n",
       "      <th>Height</th>\n",
       "      <th>TolHeight</th>\n",
       "      <th>RoomArea</th>\n",
       "      <th>RentStatus</th>\n",
       "      <th>Bedroom</th>\n",
       "      <th>Livingroom</th>\n",
       "      <th>Bathroom</th>\n",
       "      <th>RentType</th>\n",
       "      <th>Region</th>\n",
       "      <th>BusLoc</th>\n",
       "      <th>SubwayLine</th>\n",
       "      <th>SubwaySta</th>\n",
       "      <th>SubwayDis</th>\n",
       "      <th>RemodCond</th>\n",
       "      <th>Rental</th>\n",
       "    </tr>\n",
       "  </thead>\n",
       "  <tbody>\n",
       "    <tr>\n",
       "      <th>count</th>\n",
       "      <td>196539.000000</td>\n",
       "      <td>196539.000000</td>\n",
       "      <td>195538.000000</td>\n",
       "      <td>196539.000000</td>\n",
       "      <td>196539.000000</td>\n",
       "      <td>196539.000000</td>\n",
       "      <td>20138.000000</td>\n",
       "      <td>196539.000000</td>\n",
       "      <td>196539.000000</td>\n",
       "      <td>196539.000000</td>\n",
       "      <td>24230.000000</td>\n",
       "      <td>196508.000000</td>\n",
       "      <td>196508.000000</td>\n",
       "      <td>91778.000000</td>\n",
       "      <td>91778.000000</td>\n",
       "      <td>91778.000000</td>\n",
       "      <td>18492.000000</td>\n",
       "      <td>196539.000000</td>\n",
       "    </tr>\n",
       "    <tr>\n",
       "      <th>mean</th>\n",
       "      <td>2.115229</td>\n",
       "      <td>3224.116562</td>\n",
       "      <td>0.124151</td>\n",
       "      <td>0.955449</td>\n",
       "      <td>0.408711</td>\n",
       "      <td>0.013139</td>\n",
       "      <td>2.725196</td>\n",
       "      <td>2.236635</td>\n",
       "      <td>1.299625</td>\n",
       "      <td>1.223818</td>\n",
       "      <td>0.900289</td>\n",
       "      <td>7.905139</td>\n",
       "      <td>67.945982</td>\n",
       "      <td>3.284850</td>\n",
       "      <td>57.493735</td>\n",
       "      <td>0.551202</td>\n",
       "      <td>3.589228</td>\n",
       "      <td>7.949313</td>\n",
       "    </tr>\n",
       "    <tr>\n",
       "      <th>std</th>\n",
       "      <td>0.786980</td>\n",
       "      <td>2023.073726</td>\n",
       "      <td>0.133299</td>\n",
       "      <td>0.851511</td>\n",
       "      <td>0.183100</td>\n",
       "      <td>0.008104</td>\n",
       "      <td>0.667763</td>\n",
       "      <td>0.896961</td>\n",
       "      <td>0.613169</td>\n",
       "      <td>0.487234</td>\n",
       "      <td>0.299621</td>\n",
       "      <td>4.025696</td>\n",
       "      <td>43.522394</td>\n",
       "      <td>1.477147</td>\n",
       "      <td>35.191414</td>\n",
       "      <td>0.247268</td>\n",
       "      <td>1.996912</td>\n",
       "      <td>6.310609</td>\n",
       "    </tr>\n",
       "    <tr>\n",
       "      <th>min</th>\n",
       "      <td>1.000000</td>\n",
       "      <td>0.000000</td>\n",
       "      <td>0.007812</td>\n",
       "      <td>0.000000</td>\n",
       "      <td>0.000000</td>\n",
       "      <td>0.000000</td>\n",
       "      <td>1.000000</td>\n",
       "      <td>0.000000</td>\n",
       "      <td>0.000000</td>\n",
       "      <td>0.000000</td>\n",
       "      <td>0.000000</td>\n",
       "      <td>0.000000</td>\n",
       "      <td>0.000000</td>\n",
       "      <td>1.000000</td>\n",
       "      <td>1.000000</td>\n",
       "      <td>0.001667</td>\n",
       "      <td>1.000000</td>\n",
       "      <td>0.000000</td>\n",
       "    </tr>\n",
       "    <tr>\n",
       "      <th>25%</th>\n",
       "      <td>1.000000</td>\n",
       "      <td>1388.000000</td>\n",
       "      <td>0.039062</td>\n",
       "      <td>0.000000</td>\n",
       "      <td>0.290909</td>\n",
       "      <td>0.009268</td>\n",
       "      <td>3.000000</td>\n",
       "      <td>2.000000</td>\n",
       "      <td>1.000000</td>\n",
       "      <td>1.000000</td>\n",
       "      <td>1.000000</td>\n",
       "      <td>4.000000</td>\n",
       "      <td>33.000000</td>\n",
       "      <td>2.000000</td>\n",
       "      <td>23.000000</td>\n",
       "      <td>0.356667</td>\n",
       "      <td>2.000000</td>\n",
       "      <td>4.923599</td>\n",
       "    </tr>\n",
       "    <tr>\n",
       "      <th>50%</th>\n",
       "      <td>2.000000</td>\n",
       "      <td>3086.000000</td>\n",
       "      <td>0.082031</td>\n",
       "      <td>1.000000</td>\n",
       "      <td>0.418182</td>\n",
       "      <td>0.012910</td>\n",
       "      <td>3.000000</td>\n",
       "      <td>2.000000</td>\n",
       "      <td>1.000000</td>\n",
       "      <td>1.000000</td>\n",
       "      <td>1.000000</td>\n",
       "      <td>9.000000</td>\n",
       "      <td>61.000000</td>\n",
       "      <td>4.000000</td>\n",
       "      <td>59.000000</td>\n",
       "      <td>0.554167</td>\n",
       "      <td>2.000000</td>\n",
       "      <td>6.621392</td>\n",
       "    </tr>\n",
       "    <tr>\n",
       "      <th>75%</th>\n",
       "      <td>3.000000</td>\n",
       "      <td>5199.000000</td>\n",
       "      <td>0.160156</td>\n",
       "      <td>2.000000</td>\n",
       "      <td>0.563636</td>\n",
       "      <td>0.014896</td>\n",
       "      <td>3.000000</td>\n",
       "      <td>3.000000</td>\n",
       "      <td>2.000000</td>\n",
       "      <td>1.000000</td>\n",
       "      <td>1.000000</td>\n",
       "      <td>11.000000</td>\n",
       "      <td>103.000000</td>\n",
       "      <td>5.000000</td>\n",
       "      <td>87.000000</td>\n",
       "      <td>0.745833</td>\n",
       "      <td>6.000000</td>\n",
       "      <td>8.998302</td>\n",
       "    </tr>\n",
       "    <tr>\n",
       "      <th>max</th>\n",
       "      <td>3.000000</td>\n",
       "      <td>6627.000000</td>\n",
       "      <td>1.000000</td>\n",
       "      <td>2.000000</td>\n",
       "      <td>1.000000</td>\n",
       "      <td>1.000000</td>\n",
       "      <td>3.000000</td>\n",
       "      <td>11.000000</td>\n",
       "      <td>8.000000</td>\n",
       "      <td>8.000000</td>\n",
       "      <td>1.000000</td>\n",
       "      <td>14.000000</td>\n",
       "      <td>152.000000</td>\n",
       "      <td>5.000000</td>\n",
       "      <td>119.000000</td>\n",
       "      <td>1.000000</td>\n",
       "      <td>6.000000</td>\n",
       "      <td>100.000000</td>\n",
       "    </tr>\n",
       "  </tbody>\n",
       "</table>\n",
       "</div>"
      ],
      "text/plain": [
       "                Time   Neighborhood       RentRoom         Height  \\\n",
       "count  196539.000000  196539.000000  195538.000000  196539.000000   \n",
       "mean        2.115229    3224.116562       0.124151       0.955449   \n",
       "std         0.786980    2023.073726       0.133299       0.851511   \n",
       "min         1.000000       0.000000       0.007812       0.000000   \n",
       "25%         1.000000    1388.000000       0.039062       0.000000   \n",
       "50%         2.000000    3086.000000       0.082031       1.000000   \n",
       "75%         3.000000    5199.000000       0.160156       2.000000   \n",
       "max         3.000000    6627.000000       1.000000       2.000000   \n",
       "\n",
       "           TolHeight       RoomArea    RentStatus        Bedroom  \\\n",
       "count  196539.000000  196539.000000  20138.000000  196539.000000   \n",
       "mean        0.408711       0.013139      2.725196       2.236635   \n",
       "std         0.183100       0.008104      0.667763       0.896961   \n",
       "min         0.000000       0.000000      1.000000       0.000000   \n",
       "25%         0.290909       0.009268      3.000000       2.000000   \n",
       "50%         0.418182       0.012910      3.000000       2.000000   \n",
       "75%         0.563636       0.014896      3.000000       3.000000   \n",
       "max         1.000000       1.000000      3.000000      11.000000   \n",
       "\n",
       "          Livingroom       Bathroom      RentType         Region  \\\n",
       "count  196539.000000  196539.000000  24230.000000  196508.000000   \n",
       "mean        1.299625       1.223818      0.900289       7.905139   \n",
       "std         0.613169       0.487234      0.299621       4.025696   \n",
       "min         0.000000       0.000000      0.000000       0.000000   \n",
       "25%         1.000000       1.000000      1.000000       4.000000   \n",
       "50%         1.000000       1.000000      1.000000       9.000000   \n",
       "75%         2.000000       1.000000      1.000000      11.000000   \n",
       "max         8.000000       8.000000      1.000000      14.000000   \n",
       "\n",
       "              BusLoc    SubwayLine     SubwaySta     SubwayDis     RemodCond  \\\n",
       "count  196508.000000  91778.000000  91778.000000  91778.000000  18492.000000   \n",
       "mean       67.945982      3.284850     57.493735      0.551202      3.589228   \n",
       "std        43.522394      1.477147     35.191414      0.247268      1.996912   \n",
       "min         0.000000      1.000000      1.000000      0.001667      1.000000   \n",
       "25%        33.000000      2.000000     23.000000      0.356667      2.000000   \n",
       "50%        61.000000      4.000000     59.000000      0.554167      2.000000   \n",
       "75%       103.000000      5.000000     87.000000      0.745833      6.000000   \n",
       "max       152.000000      5.000000    119.000000      1.000000      6.000000   \n",
       "\n",
       "              Rental  \n",
       "count  196539.000000  \n",
       "mean        7.949313  \n",
       "std         6.310609  \n",
       "min         0.000000  \n",
       "25%         4.923599  \n",
       "50%         6.621392  \n",
       "75%         8.998302  \n",
       "max       100.000000  "
      ]
     },
     "execution_count": 62,
     "metadata": {},
     "output_type": "execute_result"
    }
   ],
   "source": [
    "train_df.describe()"
   ]
  },
  {
   "cell_type": "markdown",
   "metadata": {},
   "source": [
    "## 小区"
   ]
  },
  {
   "cell_type": "code",
   "execution_count": 114,
   "metadata": {},
   "outputs": [
    {
     "name": "stdout",
     "output_type": "stream",
     "text": [
      "训练集独有小区数：2085\n",
      "测试集独有小区：342\n"
     ]
    },
    {
     "data": {
      "text/plain": [
       "<Figure size 432x288 with 0 Axes>"
      ]
     },
     "metadata": {},
     "output_type": "display_data"
    },
    {
     "data": {
      "image/png": "[encoded data removed]",
      "text/plain": [
       "<Figure size 936x288 with 2 Axes>"
      ]
     },
     "metadata": {
      "needs_background": "light"
     },
     "output_type": "display_data"
    }
   ],
   "source": [
    "# len(train_df.loc[:,'Neighborhood'].unique())        # 5547个小区，多类别特征，考虑mean-encoding或target-encoding\n",
    "# len(test_df.loc[:,'Neighborhood'].unique())        # 3804个小区，多类别特征，考虑mean-encoding或target-encoding\n",
    "train_nei=set(train_df.loc[:,'Neighborhood'].unique())\n",
    "test_nei=set(test_df.loc[:,'Neighborhood'].unique())\n",
    "train_unique=train_nei-(train_nei&test_nei)\n",
    "test_unique=test_nei-(train_nei&test_nei)\n",
    "\n",
    "print('训练集独有小区数：{}'.format(len(train_unique)))\n",
    "print('测试集独有小区：{}'.format(len(test_unique)))\n",
    "\n",
    "plt.clf()\n",
    "fig,axs=plt.subplots(1,2,figsize=(13,4))\n",
    "axs[0].hist(train_df.dropna().loc[:,'Neighborhood'],bins=100,edgecolor='black',alpha=0.5)\n",
    "axs[1].hist(test_df.dropna().loc[:,'Neighborhood'],bins=100,edgecolor='black',alpha=0.5)\n",
    "plt.show()"
   ]
  },
  {
   "cell_type": "markdown",
   "metadata": {},
   "source": [
    "## 楼层"
   ]
  },
  {
   "cell_type": "code",
   "execution_count": 116,
   "metadata": {},
   "outputs": [
    {
     "name": "stdout",
     "output_type": "stream",
     "text": [
      "0    75825\n",
      "2    67069\n",
      "1    53645\n",
      "Name: Height, dtype: int64\n"
     ]
    },
    {
     "data": {
      "text/plain": [
       "<Figure size 432x288 with 0 Axes>"
      ]
     },
     "metadata": {},
     "output_type": "display_data"
    },
    {
     "data": {
      "image/png": "[encoded data removed]",
      "text/plain": [
       "<Figure size 432x288 with 2 Axes>"
      ]
     },
     "metadata": {},
     "output_type": "display_data"
    }
   ],
   "source": [
    "print(train_df.loc[:,'Height'].value_counts())\n",
    "plt.clf()\n",
    "fig,axs=plt.subplots(1,2)\n",
    "axs[0].pie(train_df.loc[:,'Height'].value_counts().values,\n",
    "        labels=train_df.loc[:,'Height'].value_counts().index,\n",
    "        autopct='%1.1f%%')\n",
    "axs[1].pie(test_df.loc[:,'Height'].value_counts().values,\n",
    "        labels=test_df.loc[:,'Height'].value_counts().index,\n",
    "        autopct='%1.1f%%')\n",
    "plt.show()"
   ]
  },
  {
   "cell_type": "markdown",
   "metadata": {},
   "source": [
    "## 朝向"
   ]
  },
  {
   "cell_type": "code",
   "execution_count": 130,
   "metadata": {},
   "outputs": [
    {
     "name": "stdout",
     "output_type": "stream",
     "text": [
      "训练集独有朝向：{'WS W EN', 'E W EN', 'ES WS W', 'E WN N', 'W WN N', 'N W', 'S N EN', 'E ES N', 'ES S WS W', 'ES W N', 'E S WS', 'E S WN N'}\n",
      "测试集独有朝向：{'WN N EN', 'S ES'}\n"
     ]
    },
    {
     "data": {
      "text/plain": [
       "<Figure size 432x288 with 0 Axes>"
      ]
     },
     "metadata": {},
     "output_type": "display_data"
    },
    {
     "data": {
      "image/png": "[encoded data removed]",
      "text/plain": [
       "<Figure size 1080x432 with 2 Axes>"
      ]
     },
     "metadata": {
      "needs_background": "light"
     },
     "output_type": "display_data"
    }
   ],
   "source": [
    "# print(len(train_df.loc[:,'RoomDir'].value_counts()))        # 64种不同字符串\n",
    "# print(len(test_df.loc[:,'RoomDir'].value_counts()))        # 54种不同字符串\n",
    "train_nei=set(train_df.loc[:,'RoomDir'].unique())\n",
    "test_nei=set(test_df.loc[:,'RoomDir'].unique())\n",
    "train_unique=train_nei-(train_nei&test_nei)\n",
    "test_unique=test_nei-(train_nei&test_nei)\n",
    "\n",
    "print('训练集独有朝向：{}'.format(train_unique))\n",
    "print('测试集独有朝向：{}'.format(test_unique))\n",
    "\n",
    "\n",
    "plt.clf()\n",
    "fig,axs=plt.subplots(2,1,figsize=(15,6),sharex=True)\n",
    "axs[0].bar(x=train_df.loc[:,'RoomDir'].value_counts().index,height=train_df.loc[:,'RoomDir'].value_counts().values)\n",
    "axs[1].bar(x=test_df.loc[:,'RoomDir'].value_counts().index,height=test_df.loc[:,'RoomDir'].value_counts().values)\n",
    "plt.xticks(rotation='90')\n",
    "plt.show()"
   ]
  },
  {
   "cell_type": "code",
   "execution_count": 232,
   "metadata": {
    "scrolled": false
   },
   "outputs": [
    {
     "data": {
      "text/plain": [
       "<Figure size 432x288 with 0 Axes>"
      ]
     },
     "metadata": {},
     "output_type": "display_data"
    },
    {
     "data": {
      "image/png": "[encoded data removed]",
      "text/plain": [
       "<Figure size 1080x432 with 2 Axes>"
      ]
     },
     "metadata": {
      "needs_background": "light"
     },
     "output_type": "display_data"
    }
   ],
   "source": [
    "def ex_dir(direction):\n",
    "    try:\n",
    "        direction=direction.split(' ')[0]\n",
    "    except Exception as e:\n",
    "        pass\n",
    "    return direction\n",
    "\n",
    "tmp_train_df=train_df\n",
    "tmp_test_df=test_df\n",
    "tmp_train_df.loc[:,'RoomDir']=train_df.loc[:,'RoomDir'].apply(ex_dir)\n",
    "tmp_test_df.loc[:,'RoomDir']=test_df.loc[:,'RoomDir'].apply(ex_dir)\n",
    "\n",
    "plt.clf()\n",
    "fig,axs=plt.subplots(2,1,figsize=(15,6),sharex=True)\n",
    "axs[0].bar(x=tmp_train_df.loc[:,'RoomDir'].value_counts().index,height=tmp_train_df.loc[:,'RoomDir'].value_counts().values)\n",
    "axs[1].bar(x=tmp_test_df.loc[:,'RoomDir'].value_counts().index,height=tmp_test_df.loc[:,'RoomDir'].value_counts().values)\n",
    "plt.show()"
   ]
  },
  {
   "cell_type": "markdown",
   "metadata": {},
   "source": [
    "## 出租状态"
   ]
  },
  {
   "cell_type": "code",
   "execution_count": 131,
   "metadata": {
    "scrolled": true
   },
   "outputs": [
    {
     "name": "stdout",
     "output_type": "stream",
     "text": [
      "3.0    17087\n",
      "1.0     2483\n",
      "2.0      568\n",
      "Name: RentStatus, dtype: int64\n"
     ]
    },
    {
     "data": {
      "text/plain": [
       "<Figure size 432x288 with 0 Axes>"
      ]
     },
     "metadata": {},
     "output_type": "display_data"
    },
    {
     "data": {
      "image/png": "[encoded data removed]",
      "text/plain": [
       "<Figure size 432x288 with 2 Axes>"
      ]
     },
     "metadata": {},
     "output_type": "display_data"
    }
   ],
   "source": [
    "print(train_df.loc[:,'RentStatus'].value_counts())\n",
    "plt.clf()\n",
    "fig,axs=plt.subplots(1,2)\n",
    "axs[0].pie(train_df.loc[:,'RentStatus'].value_counts().values,\n",
    "        labels=train_df.loc[:,'RentStatus'].value_counts().index,\n",
    "        autopct='%1.1f%%')\n",
    "axs[1].pie(test_df.loc[:,'RentStatus'].value_counts().values,\n",
    "        labels=test_df.loc[:,'RentStatus'].value_counts().index,\n",
    "        autopct='%1.1f%%')\n",
    "plt.title('RentStatus')\n",
    "plt.show()"
   ]
  },
  {
   "cell_type": "markdown",
   "metadata": {},
   "source": [
    "## 卧室"
   ]
  },
  {
   "cell_type": "code",
   "execution_count": 151,
   "metadata": {
    "scrolled": true
   },
   "outputs": [
    {
     "name": "stdout",
     "output_type": "stream",
     "text": [
      "训练集独有卧室数：{11}\n",
      "测试集独有卧室数：set()\n"
     ]
    },
    {
     "data": {
      "text/plain": [
       "<Figure size 432x288 with 0 Axes>"
      ]
     },
     "metadata": {},
     "output_type": "display_data"
    },
    {
     "data": {
      "image/png": "[encoded data removed]",
      "text/plain": [
       "<Figure size 1080x288 with 2 Axes>"
      ]
     },
     "metadata": {
      "needs_background": "light"
     },
     "output_type": "display_data"
    }
   ],
   "source": [
    "# print(len(train_df.loc[:,'Bedroom'].value_counts()))        # 12\n",
    "# print(len(test_df.loc[:,'Bedroom'].value_counts()))        # 11\n",
    "train_nei=set(train_df.loc[:,'Bedroom'].unique())\n",
    "test_nei=set(test_df.loc[:,'Bedroom'].unique())\n",
    "train_unique=train_nei-(train_nei&test_nei)\n",
    "test_unique=test_nei-(train_nei&test_nei)\n",
    "print('训练集独有卧室数：{}'.format(train_unique))\n",
    "print('测试集独有卧室数：{}'.format(test_unique))\n",
    "\n",
    "plt.clf()\n",
    "fig,axs=plt.subplots(1,2,sharey=True,figsize=(15,4))\n",
    "axs[0].barh(y=train_df.loc[:,'Bedroom'].value_counts().index,width=train_df.loc[:,'Bedroom'].value_counts().values)\n",
    "axs[1].barh(y=test_df.loc[:,'Bedroom'].value_counts().index,width=test_df.loc[:,'Bedroom'].value_counts().values)\n",
    "plt.show()"
   ]
  },
  {
   "cell_type": "markdown",
   "metadata": {},
   "source": [
    "## 起居室"
   ]
  },
  {
   "cell_type": "code",
   "execution_count": 153,
   "metadata": {
    "scrolled": true
   },
   "outputs": [
    {
     "name": "stdout",
     "output_type": "stream",
     "text": [
      "训练集独有起居室数：set()\n",
      "测试集独有起居室数：{7}\n"
     ]
    },
    {
     "data": {
      "text/plain": [
       "<Figure size 432x288 with 0 Axes>"
      ]
     },
     "metadata": {},
     "output_type": "display_data"
    },
    {
     "data": {
      "image/png": "[encoded data removed]",
      "text/plain": [
       "<Figure size 1080x288 with 2 Axes>"
      ]
     },
     "metadata": {
      "needs_background": "light"
     },
     "output_type": "display_data"
    }
   ],
   "source": [
    "train_nei=set(train_df.loc[:,'Livingroom'].unique())\n",
    "test_nei=set(test_df.loc[:,'Livingroom'].unique())\n",
    "train_unique=train_nei-(train_nei&test_nei)\n",
    "test_unique=test_nei-(train_nei&test_nei)\n",
    "print('训练集独有起居室数：{}'.format(train_unique))\n",
    "print('测试集独有起居室数：{}'.format(test_unique))\n",
    "\n",
    "plt.clf()\n",
    "fig,axs=plt.subplots(1,2,sharey=True,figsize=(15,4))\n",
    "axs[0].barh(y=train_df.loc[:,'Livingroom'].value_counts().index,width=train_df.loc[:,'Livingroom'].value_counts().values)\n",
    "axs[1].barh(y=test_df.loc[:,'Livingroom'].value_counts().index,width=test_df.loc[:,'Livingroom'].value_counts().values)\n",
    "plt.show()"
   ]
  },
  {
   "cell_type": "markdown",
   "metadata": {},
   "source": [
    "## 卫浴"
   ]
  },
  {
   "cell_type": "code",
   "execution_count": 155,
   "metadata": {},
   "outputs": [
    {
     "name": "stdout",
     "output_type": "stream",
     "text": [
      "训练集独有卫浴数：{8}\n",
      "测试集独有卫浴数：set()\n"
     ]
    },
    {
     "data": {
      "text/plain": [
       "<Figure size 432x288 with 0 Axes>"
      ]
     },
     "metadata": {},
     "output_type": "display_data"
    },
    {
     "data": {
      "image/png": "[encoded data removed]",
      "text/plain": [
       "<Figure size 1080x288 with 2 Axes>"
      ]
     },
     "metadata": {
      "needs_background": "light"
     },
     "output_type": "display_data"
    }
   ],
   "source": [
    "train_nei=set(train_df.loc[:,'Bathroom'].unique())\n",
    "test_nei=set(test_df.loc[:,'Bathroom'].unique())\n",
    "train_unique=train_nei-(train_nei&test_nei)\n",
    "test_unique=test_nei-(train_nei&test_nei)\n",
    "print('训练集独有卫浴数：{}'.format(train_unique))\n",
    "print('测试集独有卫浴数：{}'.format(test_unique))\n",
    "\n",
    "plt.clf()\n",
    "fig,axs=plt.subplots(1,2,sharey=True,figsize=(15,4))\n",
    "axs[0].barh(y=train_df.loc[:,'Bathroom'].value_counts().index,width=train_df.loc[:,'Bathroom'].value_counts().values)\n",
    "axs[1].barh(y=test_df.loc[:,'Bathroom'].value_counts().index,width=test_df.loc[:,'Bathroom'].value_counts().values)\n",
    "plt.show()"
   ]
  },
  {
   "cell_type": "markdown",
   "metadata": {},
   "source": [
    "## 出租类型"
   ]
  },
  {
   "cell_type": "code",
   "execution_count": 72,
   "metadata": {},
   "outputs": [
    {
     "name": "stdout",
     "output_type": "stream",
     "text": [
      "1.0    21814\n",
      "0.0     2416\n",
      "Name: RentType, dtype: int64\n"
     ]
    },
    {
     "data": {
      "image/png": "[encoded data removed]",
      "text/plain": [
       "<Figure size 432x288 with 1 Axes>"
      ]
     },
     "metadata": {},
     "output_type": "display_data"
    }
   ],
   "source": [
    "print(train_df.loc[:,'RentType'].value_counts())\n",
    "plt.clf()\n",
    "plt.pie(train_df.loc[:,'RentType'].value_counts().values,\n",
    "        labels=train_df.loc[:,'RentType'].value_counts().index,\n",
    "        autopct='%1.1f%%')\n",
    "plt.show()"
   ]
  },
  {
   "cell_type": "markdown",
   "metadata": {},
   "source": [
    "## 所在行政区"
   ]
  },
  {
   "cell_type": "code",
   "execution_count": 167,
   "metadata": {},
   "outputs": [
    {
     "name": "stdout",
     "output_type": "stream",
     "text": [
      "训练集独有行政区：{nan}\n",
      "测试集独有行政区：{nan}\n"
     ]
    },
    {
     "data": {
      "text/plain": [
       "<Figure size 432x288 with 0 Axes>"
      ]
     },
     "metadata": {},
     "output_type": "display_data"
    },
    {
     "data": {
      "image/png": "[encoded data removed]",
      "text/plain": [
       "<Figure size 1080x288 with 2 Axes>"
      ]
     },
     "metadata": {
      "needs_background": "light"
     },
     "output_type": "display_data"
    }
   ],
   "source": [
    "train_nei=set(train_df.loc[:,'Region'].unique())\n",
    "test_nei=set(test_df.loc[:,'Region'].unique())\n",
    "train_unique=train_nei-(train_nei&test_nei)\n",
    "test_unique=test_nei-(train_nei&test_nei)\n",
    "print('训练集独有行政区：{}'.format(train_unique))\n",
    "print('测试集独有行政区：{}'.format(test_unique))\n",
    "\n",
    "plt.clf()\n",
    "fig,axs=plt.subplots(1,2,sharey=True,figsize=(15,4))\n",
    "axs[0].barh(y=train_df.loc[:,'Region'].value_counts().index,width=train_df.loc[:,'Region'].value_counts().values)\n",
    "axs[1].barh(y=test_df.loc[:,'Region'].value_counts().index,width=test_df.loc[:,'Region'].value_counts().values)\n",
    "plt.show()"
   ]
  },
  {
   "cell_type": "markdown",
   "metadata": {},
   "source": [
    "## 商圈"
   ]
  },
  {
   "cell_type": "code",
   "execution_count": 170,
   "metadata": {},
   "outputs": [
    {
     "name": "stdout",
     "output_type": "stream",
     "text": [
      "训练集独有商圈：{nan, 25.0, 21.0, 46.0}\n",
      "测试集独有商圈：{nan}\n"
     ]
    },
    {
     "data": {
      "text/plain": [
       "<Figure size 432x288 with 0 Axes>"
      ]
     },
     "metadata": {},
     "output_type": "display_data"
    },
    {
     "data": {
      "image/png": "[encoded data removed]",
      "text/plain": [
       "<Figure size 1008x288 with 2 Axes>"
      ]
     },
     "metadata": {
      "needs_background": "light"
     },
     "output_type": "display_data"
    }
   ],
   "source": [
    "train_nei=set(train_df.loc[:,'BusLoc'].unique())\n",
    "test_nei=set(test_df.loc[:,'BusLoc'].unique())\n",
    "train_unique=train_nei-(train_nei&test_nei)\n",
    "test_unique=test_nei-(train_nei&test_nei)\n",
    "print('训练集独有商圈：{}'.format(train_unique))\n",
    "print('测试集独有商圈：{}'.format(test_unique))\n",
    "\n",
    "plt.clf()\n",
    "fig,axs=plt.subplots(1,2,figsize=(14,4))\n",
    "axs[0].hist(train_df.dropna().loc[:,'BusLoc'],bins=100,edgecolor='black',alpha=0.5)\n",
    "axs[1].hist(test_df.dropna().loc[:,'BusLoc'],bins=100,edgecolor='black',alpha=0.5)\n",
    "plt.show()"
   ]
  },
  {
   "cell_type": "markdown",
   "metadata": {},
   "source": [
    "**注意：**6627小区在训练集中属于86号商圈，但在测试集中却变成了136号商圈，为了保持一致性，是否需要将测试集中该小区的商圈修正。测试还有没有变化的："
   ]
  },
  {
   "cell_type": "code",
   "execution_count": null,
   "metadata": {},
   "outputs": [],
   "source": [
    "# train_df.loc[:,[]]"
   ]
  },
  {
   "cell_type": "markdown",
   "metadata": {},
   "source": [
    "## 地铁线"
   ]
  },
  {
   "cell_type": "code",
   "execution_count": 16,
   "metadata": {},
   "outputs": [
    {
     "name": "stdout",
     "output_type": "stream",
     "text": [
      "5.0    26577\n",
      "4.0    20002\n",
      "1.0    17189\n",
      "3.0    15375\n",
      "2.0    12635\n",
      "Name: SubwayLine, dtype: int64\n"
     ]
    },
    {
     "data": {
      "image/png": "[encoded data removed]",
      "text/plain": [
       "<Figure size 432x288 with 1 Axes>"
      ]
     },
     "metadata": {},
     "output_type": "display_data"
    }
   ],
   "source": [
    "print(train_df.loc[:,'SubwayLine'].value_counts())\n",
    "plt.clf()\n",
    "plt.pie(train_df.loc[:,'SubwayLine'].value_counts().values,\n",
    "        labels=train_df.loc[:,'SubwayLine'].value_counts().index,\n",
    "        autopct='%1.1f%%')\n",
    "plt.title('SubwayLine')\n",
    "plt.show()"
   ]
  },
  {
   "cell_type": "markdown",
   "metadata": {},
   "source": [
    "## 地铁站"
   ]
  },
  {
   "cell_type": "code",
   "execution_count": 233,
   "metadata": {},
   "outputs": [
    {
     "name": "stdout",
     "output_type": "stream",
     "text": [
      "训练集独有地铁站：{nan, 81.0, 110.0, 47.0}\n",
      "测试集独有地铁站：{nan}\n"
     ]
    },
    {
     "data": {
      "text/plain": [
       "<Figure size 432x288 with 0 Axes>"
      ]
     },
     "metadata": {},
     "output_type": "display_data"
    },
    {
     "data": {
      "image/png": "[encoded data removed]",
      "text/plain": [
       "<Figure size 1008x288 with 2 Axes>"
      ]
     },
     "metadata": {
      "needs_background": "light"
     },
     "output_type": "display_data"
    }
   ],
   "source": [
    "train_nei=set(train_df.loc[:,'SubwaySta'].unique())\n",
    "test_nei=set(test_df.loc[:,'SubwaySta'].unique())\n",
    "train_unique=train_nei-(train_nei&test_nei)\n",
    "test_unique=test_nei-(train_nei&test_nei)\n",
    "print('训练集独有地铁站：{}'.format(train_unique))\n",
    "print('测试集独有地铁站：{}'.format(test_unique))\n",
    "\n",
    "plt.clf()\n",
    "fig,axs=plt.subplots(1,2,figsize=(14,4))\n",
    "axs[0].hist(train_df.dropna().loc[:,'SubwaySta'],bins=100,edgecolor='black',alpha=0.5)\n",
    "axs[1].hist(test_df.dropna().loc[:,'SubwaySta'],bins=100,edgecolor='black',alpha=0.5)\n",
    "plt.show()"
   ]
  },
  {
   "cell_type": "markdown",
   "metadata": {},
   "source": [
    "## 装修状况"
   ]
  },
  {
   "cell_type": "code",
   "execution_count": 18,
   "metadata": {},
   "outputs": [
    {
     "name": "stdout",
     "output_type": "stream",
     "text": [
      "2.0    9265\n",
      "6.0    7293\n",
      "1.0    1154\n",
      "4.0     542\n",
      "3.0     214\n",
      "5.0      24\n",
      "Name: RemodCond, dtype: int64\n"
     ]
    },
    {
     "data": {
      "image/png": "[encoded data removed]",
      "text/plain": [
       "<Figure size 432x288 with 1 Axes>"
      ]
     },
     "metadata": {},
     "output_type": "display_data"
    }
   ],
   "source": [
    "print(train_df.loc[:,'RemodCond'].value_counts())\n",
    "plt.clf()\n",
    "plt.pie(train_df.loc[:,'RemodCond'].value_counts().values,\n",
    "        labels=train_df.loc[:,'RemodCond'].value_counts().index,\n",
    "        autopct='%1.1f%%')\n",
    "plt.title('RemodCond')\n",
    "plt.show()"
   ]
  },
  {
   "cell_type": "markdown",
   "metadata": {},
   "source": [
    "## 楼层总高度"
   ]
  },
  {
   "cell_type": "code",
   "execution_count": 172,
   "metadata": {},
   "outputs": [
    {
     "data": {
      "text/plain": [
       "<Figure size 432x288 with 0 Axes>"
      ]
     },
     "metadata": {},
     "output_type": "display_data"
    },
    {
     "data": {
      "image/png": "[encoded data removed]",
      "text/plain": [
       "<Figure size 1080x288 with 2 Axes>"
      ]
     },
     "metadata": {
      "needs_background": "light"
     },
     "output_type": "display_data"
    }
   ],
   "source": [
    "# print(len(train_df.loc[:,'TolHeight'].value_counts()))        # 55种楼层高度\n",
    "\n",
    "plt.clf()\n",
    "fig,axs=plt.subplots(1,2,figsize=(15,4))\n",
    "axs[0].hist(train_df.dropna().loc[:,'TolHeight'],bins=60,edgecolor='black',alpha=0.5)\n",
    "axs[1].hist(test_df.dropna().loc[:,'TolHeight'],bins=60,edgecolor='black',alpha=0.5)\n",
    "plt.show()"
   ]
  },
  {
   "cell_type": "markdown",
   "metadata": {},
   "source": [
    "## 小区出租屋数"
   ]
  },
  {
   "cell_type": "code",
   "execution_count": 164,
   "metadata": {},
   "outputs": [
    {
     "data": {
      "text/plain": [
       "<Figure size 432x288 with 0 Axes>"
      ]
     },
     "metadata": {},
     "output_type": "display_data"
    },
    {
     "data": {
      "image/png": "[encoded data removed]",
      "text/plain": [
       "<Figure size 1080x360 with 4 Axes>"
      ]
     },
     "metadata": {
      "needs_background": "light"
     },
     "output_type": "display_data"
    }
   ],
   "source": [
    "plt.clf()\n",
    "fig,axs=plt.subplots(2,2,figsize=(15,5))\n",
    "axs[0,0].hist(train_df.dropna().loc[:,'RentRoom'],bins=100,edgecolor='black',alpha=0.5)\n",
    "axs[1,0].hist(np.log(train_df.dropna().loc[:,'RentRoom']),bins=100,edgecolor='black',alpha=0.5)\n",
    "axs[0,1].hist(test_df.dropna().loc[:,'RentRoom'],bins=100,edgecolor='black',alpha=0.5)\n",
    "axs[1,1].hist(np.log(test_df.dropna().loc[:,'RentRoom']),bins=100,edgecolor='black',alpha=0.5)\n",
    "plt.show()"
   ]
  },
  {
   "cell_type": "markdown",
   "metadata": {},
   "source": [
    "## 出租屋面积"
   ]
  },
  {
   "cell_type": "code",
   "execution_count": 163,
   "metadata": {},
   "outputs": [
    {
     "data": {
      "text/plain": [
       "<Figure size 432x288 with 0 Axes>"
      ]
     },
     "metadata": {},
     "output_type": "display_data"
    },
    {
     "data": {
      "image/png": "[encoded data removed]",
      "text/plain": [
       "<Figure size 1080x360 with 4 Axes>"
      ]
     },
     "metadata": {
      "needs_background": "light"
     },
     "output_type": "display_data"
    }
   ],
   "source": [
    "plt.clf()\n",
    "fig,axs=plt.subplots(2,2,figsize=(15,5))\n",
    "axs[0,0].hist(train_df.dropna().loc[:,'RoomArea'],bins=100,edgecolor='black',alpha=0.5)\n",
    "axs[1,0].hist(np.sqrt(train_df.dropna().loc[:,'RoomArea']),bins=100,edgecolor='black',alpha=0.5)\n",
    "axs[0,1].hist(test_df.dropna().loc[:,'RoomArea'],bins=100,edgecolor='black',alpha=0.5)\n",
    "axs[1,1].hist(np.sqrt(test_df.dropna().loc[:,'RoomArea']),bins=100,edgecolor='black',alpha=0.5)\n",
    "plt.show()"
   ]
  },
  {
   "cell_type": "markdown",
   "metadata": {},
   "source": [
    "## 地铁站距离"
   ]
  },
  {
   "cell_type": "code",
   "execution_count": 162,
   "metadata": {},
   "outputs": [
    {
     "data": {
      "text/plain": [
       "<Figure size 432x288 with 0 Axes>"
      ]
     },
     "metadata": {},
     "output_type": "display_data"
    },
    {
     "data": {
      "image/png": "[encoded data removed]",
      "text/plain": [
       "<Figure size 1080x288 with 2 Axes>"
      ]
     },
     "metadata": {
      "needs_background": "light"
     },
     "output_type": "display_data"
    }
   ],
   "source": [
    "plt.clf()\n",
    "fig,axs=plt.subplots(1,2,figsize=(15,4))\n",
    "axs[0].hist(train_df.dropna().loc[:,'SubwayDis'],bins=100,edgecolor='black',alpha=0.5)\n",
    "axs[1].hist(test_df.dropna().loc[:,'SubwayDis'],bins=100,edgecolor='black',alpha=0.5)\n",
    "plt.show()"
   ]
  },
  {
   "cell_type": "markdown",
   "metadata": {},
   "source": [
    "## 租金"
   ]
  },
  {
   "cell_type": "code",
   "execution_count": 158,
   "metadata": {},
   "outputs": [
    {
     "data": {
      "text/plain": [
       "<Figure size 432x288 with 0 Axes>"
      ]
     },
     "metadata": {},
     "output_type": "display_data"
    },
    {
     "data": {
      "image/png": "[encoded data removed]",
      "text/plain": [
       "<Figure size 720x360 with 2 Axes>"
      ]
     },
     "metadata": {
      "needs_background": "light"
     },
     "output_type": "display_data"
    }
   ],
   "source": [
    "plt.clf()\n",
    "fig,axs=plt.subplots(2,1,figsize=(10,5))\n",
    "axs[0].hist(train_df.dropna().loc[:,'Rental'],bins=100,edgecolor='black',alpha=0.5)\n",
    "axs[1].hist(np.log(train_df.dropna().loc[:,'Rental']),bins=100,edgecolor='black',alpha=0.5)\n",
    "plt.show()"
   ]
  },
  {
   "cell_type": "code",
   "execution_count": 219,
   "metadata": {},
   "outputs": [
    {
     "data": {
      "text/plain": [
       "<Figure size 432x288 with 0 Axes>"
      ]
     },
     "metadata": {},
     "output_type": "display_data"
    },
    {
     "data": {
      "image/png": "[encoded data removed]",
      "text/plain": [
       "<Figure size 720x360 with 2 Axes>"
      ]
     },
     "metadata": {
      "needs_background": "light"
     },
     "output_type": "display_data"
    }
   ],
   "source": [
    "sep=23\n",
    "plt.clf()\n",
    "fig,axs=plt.subplots(2,1,figsize=(10,5))\n",
    "axs[0].hist(train_df[train_df.loc[:,'Rental']<sep].dropna().loc[:,'Rental'],bins=sep*2,edgecolor='black',alpha=0.5)\n",
    "axs[1].hist(np.sqrt(train_df[train_df.loc[:,'Rental']>sep].dropna().loc[:,'Rental']),bins=(100-sep)*2,edgecolor='black',alpha=0.5)\n",
    "plt.show()"
   ]
  },
  {
   "cell_type": "code",
   "execution_count": 218,
   "metadata": {},
   "outputs": [
    {
     "name": "stdout",
     "output_type": "stream",
     "text": [
      "1 0.005    2 0.0234    3 0.0675    4 0.1632    \n",
      "5 0.3083    6 0.4292    7 0.5594    8 0.6782    \n",
      "9 0.776    10 0.8028    11 0.8532    12 0.8805    \n",
      "13 0.9005    14 0.9101    15 0.9272    16 0.9431    \n",
      "17 0.9458    18 0.9544    19 0.9565    20 0.9644    \n",
      "21 0.969    22 0.9701    23 0.974    24 0.9747    \n",
      "25 0.9772    26 0.9815    27 0.9817    28 0.9833    \n",
      "29 0.9837    30 0.9858    31 0.9858    32 0.9861    \n",
      "33 0.989    34 0.9891    35 0.9892    36 0.9892    \n",
      "37 0.9903    38 0.9904    39 0.9905    40 0.993    \n",
      "41 0.9931    42 0.9931    43 0.9947    44 0.9947    \n",
      "45 0.9948    46 0.9948    47 0.9952    48 0.9953    \n",
      "49 0.9953    50 0.9968    51 0.9968    52 0.9969    \n",
      "53 0.9969    54 0.9975    55 0.9976    56 0.9976    \n",
      "57 0.9977    58 0.9978    59 0.9978    60 0.9984    \n",
      "61 0.9984    62 0.9985    63 0.9985    64 0.9986    \n",
      "65 0.9986    66 0.9986    67 0.9991    68 0.9992    \n",
      "69 0.9992    70 0.9992    71 0.9992    72 0.9992    \n",
      "73 0.9992    74 0.9994    75 0.9994    76 0.9994    \n",
      "77 0.9995    78 0.9995    79 0.9995    80 0.9995    \n",
      "81 0.9995    82 0.9995    83 0.9996    84 0.9998    \n",
      "85 0.9998    86 0.9998    87 0.9998    88 0.9999    \n",
      "89 0.9999    90 0.9999    91 0.9999    92 0.9999    \n",
      "93 0.9999    94 1.0    95 1.0    96 1.0    \n",
      "97 1.0    98 1.0    99 1.0    100 1.0    \n"
     ]
    }
   ],
   "source": [
    "for i in range(1,101):\n",
    "    print(i,round(len(train_df[train_df.loc[:,'Rental']<i])/len(train_df),4),end='    ')\n",
    "    if i%4==0:\n",
    "        print('')"
   ]
  },
  {
   "cell_type": "markdown",
   "metadata": {},
   "source": [
    "## 统计特征\n",
    "相当于mean-encoding"
   ]
  },
  {
   "cell_type": "code",
   "execution_count": null,
   "metadata": {},
   "outputs": [],
   "source": [
    "# train_df.loc[:,['Neighborhood','BusLoc']].drop_duplicates()"
   ]
  },
  {
   "cell_type": "code",
   "execution_count": null,
   "metadata": {},
   "outputs": [],
   "source": []
  }
 ],
 "metadata": {
  "kernelspec": {
   "display_name": "Python 3",
   "language": "python",
   "name": "python3"
  },
  "language_info": {
   "codemirror_mode": {
    "name": "ipython",
    "version": 3
   },
   "file_extension": ".py",
   "mimetype": "text/x-python",
   "name": "python",
   "nbconvert_exporter": "python",
   "pygments_lexer": "ipython3",
   "version": "3.5.2"
  }
 },
 "nbformat": 4,
 "nbformat_minor": 2
}
